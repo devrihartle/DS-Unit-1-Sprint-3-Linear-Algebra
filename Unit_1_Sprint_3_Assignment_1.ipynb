{
  "nbformat": 4,
  "nbformat_minor": 0,
  "metadata": {
    "colab": {
      "name": "Unit 1 Sprint 3 Assignment 1",
      "provenance": [],
      "collapsed_sections": [],
      "include_colab_link": true
    },
    "kernelspec": {
      "name": "python3",
      "display_name": "Python 3"
    }
  },
  "cells": [
    {
      "cell_type": "markdown",
      "metadata": {
        "id": "view-in-github",
        "colab_type": "text"
      },
      "source": [
        "<a href=\"https://colab.research.google.com/github/devrihartle/DS-Unit-1-Sprint-3-Linear-Algebra/blob/master/Unit_1_Sprint_3_Assignment_1.ipynb\" target=\"_parent\"><img src=\"https://colab.research.google.com/assets/colab-badge.svg\" alt=\"Open In Colab\"/></a>"
      ]
    },
    {
      "cell_type": "markdown",
      "metadata": {
        "id": "RQw2GTc8oDRw"
      },
      "source": [
        "Unit 1, Sprint 2, Module 1\n",
        "\n",
        "###Learning Objectives:\n",
        "- Student can create a scatterplot\n",
        "- Student can identify the independent and dependent variables in a relationship (also known as features and target, and explanatory and response variables)\n",
        "- Student can identify linear and nonlinear relationships from a scatterplot\n",
        "- Student can calculate and interpret linear correlation\n",
        "- Student can calculate and interpret the slope and intercept of a simple linear regression model\n",
        "- Sudent can predict a response from a simple linear regression model\n",
        "- Student can calculate and interpret a residual"
      ]
    },
    {
      "cell_type": "markdown",
      "metadata": {
        "id": "uhmdnOzupL1N"
      },
      "source": [
        "#Use the following information to answer questions 1 - 13 in the assignment:\n",
        "\n"
      ]
    },
    {
      "cell_type": "markdown",
      "metadata": {
        "id": "MHWnltybtm8_"
      },
      "source": [
        "###Is head size related to brain weight in healthy adult humans?\n",
        "\n",
        "The Brainhead.csv dataset provides information on 237 individuals who were subject to post-mortem examination at the Middlesex Hospital in London around the turn of the 20th century. Study authors used cadavers to see if a relationship between brain weight and other more easily measured physiological characterizes such as age, sex, and head size could be determined. The end goal was to develop a way to estimate a person’s brain size while they were still alive (as the living aren’t keen on having their brains taken out and weighed). "
      ]
    },
    {
      "cell_type": "markdown",
      "metadata": {
        "id": "lM5t4Yajp8mH"
      },
      "source": [
        "**We wish to determine if there is a linear relationship between head size and brain weight in healthy human adults.**\n",
        "\n",
        "Source: R.J. Gladstone (1905). \"A Study of the Relations of the Brain to the Size of the Head\", Biometrika, Vol. 4, pp105-123."
      ]
    },
    {
      "cell_type": "code",
      "metadata": {
        "id": "sJegaDmRn0a6",
        "colab": {
          "base_uri": "https://localhost:8080/",
          "height": 204
        },
        "outputId": "3f56cba9-3032-49ac-f67b-c80def19129e"
      },
      "source": [
        "#Import the Brainhead.csv dataset from a URL and print the first few rows\n",
        "\n",
        "import pandas as pd\n",
        "import numpy as np\n",
        "\n",
        "\n",
        "data_url = 'https://raw.githubusercontent.com/LambdaSchool/data-science-practice-datasets/main/unit_1/Brainhead/Brainhead.csv'\n",
        "\n",
        "df = pd.read_csv(data_url, skipinitialspace=True, header=0)\n",
        "\n",
        "df.head()"
      ],
      "execution_count": 2,
      "outputs": [
        {
          "output_type": "execute_result",
          "data": {
            "text/html": [
              "<div>\n",
              "<style scoped>\n",
              "    .dataframe tbody tr th:only-of-type {\n",
              "        vertical-align: middle;\n",
              "    }\n",
              "\n",
              "    .dataframe tbody tr th {\n",
              "        vertical-align: top;\n",
              "    }\n",
              "\n",
              "    .dataframe thead th {\n",
              "        text-align: right;\n",
              "    }\n",
              "</style>\n",
              "<table border=\"1\" class=\"dataframe\">\n",
              "  <thead>\n",
              "    <tr style=\"text-align: right;\">\n",
              "      <th></th>\n",
              "      <th>Gender</th>\n",
              "      <th>Age</th>\n",
              "      <th>Head</th>\n",
              "      <th>Brain</th>\n",
              "    </tr>\n",
              "  </thead>\n",
              "  <tbody>\n",
              "    <tr>\n",
              "      <th>0</th>\n",
              "      <td>1</td>\n",
              "      <td>1</td>\n",
              "      <td>4512</td>\n",
              "      <td>1530</td>\n",
              "    </tr>\n",
              "    <tr>\n",
              "      <th>1</th>\n",
              "      <td>1</td>\n",
              "      <td>1</td>\n",
              "      <td>3738</td>\n",
              "      <td>1297</td>\n",
              "    </tr>\n",
              "    <tr>\n",
              "      <th>2</th>\n",
              "      <td>1</td>\n",
              "      <td>1</td>\n",
              "      <td>4261</td>\n",
              "      <td>1335</td>\n",
              "    </tr>\n",
              "    <tr>\n",
              "      <th>3</th>\n",
              "      <td>1</td>\n",
              "      <td>1</td>\n",
              "      <td>3777</td>\n",
              "      <td>1282</td>\n",
              "    </tr>\n",
              "    <tr>\n",
              "      <th>4</th>\n",
              "      <td>1</td>\n",
              "      <td>1</td>\n",
              "      <td>4177</td>\n",
              "      <td>1590</td>\n",
              "    </tr>\n",
              "  </tbody>\n",
              "</table>\n",
              "</div>"
            ],
            "text/plain": [
              "   Gender  Age  Head  Brain\n",
              "0       1    1  4512   1530\n",
              "1       1    1  3738   1297\n",
              "2       1    1  4261   1335\n",
              "3       1    1  3777   1282\n",
              "4       1    1  4177   1590"
            ]
          },
          "metadata": {
            "tags": []
          },
          "execution_count": 2
        }
      ]
    },
    {
      "cell_type": "markdown",
      "metadata": {
        "id": "UygPGJ5Iq4zZ"
      },
      "source": [
        "The two variables we are interested in - for now - are \n",
        "\n",
        "- Brain, the brain weight in g\n",
        "- Head, the head size in cubic cm"
      ]
    },
    {
      "cell_type": "markdown",
      "metadata": {
        "id": "q5ese6fvrSBQ"
      },
      "source": [
        "1) If we wish to predict brain weight from head size, which variable is the independent variable (also called the feature, explanatory or x variable) and which variable is the dependent variable (also called the target, response or y variable)?"
      ]
    },
    {
      "cell_type": "markdown",
      "metadata": {
        "id": "n2D0DmCwru_g"
      },
      "source": [
        "Answer here: Head size is the independent variable, and brain weight is the dependent variable."
      ]
    },
    {
      "cell_type": "markdown",
      "metadata": {
        "id": "p-dC58hMvRYt"
      },
      "source": [
        "2) Draw a scatterplot showing the relationship between brain weight and head size.  Make sure to graph the correct variable on the correct axis and label your graph."
      ]
    },
    {
      "cell_type": "code",
      "metadata": {
        "id": "sVZOz0j8xLb4",
        "colab": {
          "base_uri": "https://localhost:8080/",
          "height": 295
        },
        "outputId": "de9952cd-4184-4d91-d91f-41a5e55d050f"
      },
      "source": [
        "### YOUR CODE HERE ###\n",
        "import matplotlib.pyplot as plt\n",
        "fig, ax = plt.subplots()\n",
        "plt.scatter(x=df['Head'], y=df['Brain'])\n",
        "ax.set_title('Head size and brain weight')\n",
        "ax.set_xlabel('Head')\n",
        "ax.set_ylabel('Brain')\n",
        "plt.show()"
      ],
      "execution_count": 3,
      "outputs": [
        {
          "output_type": "display_data",
          "data": {
            "image/png": "[encoded data removed]",
            "text/plain": [
              "<Figure size 432x288 with 1 Axes>"
            ]
          },
          "metadata": {
            "tags": [],
            "needs_background": "light"
          }
        }
      ]
    },
    {
      "cell_type": "markdown",
      "metadata": {
        "id": "4eJsXuRLxKrz"
      },
      "source": [
        "3) Describe the strength and direction of the relationship between head size and brain weight."
      ]
    },
    {
      "cell_type": "markdown",
      "metadata": {
        "id": "9VLKDiESxJSR"
      },
      "source": [
        "The relationship seems pretty strong, the larger the head the higher the brain weight. It is a positive relationship. "
      ]
    },
    {
      "cell_type": "markdown",
      "metadata": {
        "id": "q9zVxcOPwU4Z"
      },
      "source": [
        "4) Determine if there is any missing data in the dataset."
      ]
    },
    {
      "cell_type": "code",
      "metadata": {
        "id": "jagDF8wF0aaZ",
        "colab": {
          "base_uri": "https://localhost:8080/"
        },
        "outputId": "c12bf916-df17-4670-d032-cd63ff6b3cf5"
      },
      "source": [
        "### YOUR CODE HERE ###\n",
        "df.isnull().sum()"
      ],
      "execution_count": 4,
      "outputs": [
        {
          "output_type": "execute_result",
          "data": {
            "text/plain": [
              "Gender    0\n",
              "Age       0\n",
              "Head      0\n",
              "Brain     0\n",
              "dtype: int64"
            ]
          },
          "metadata": {
            "tags": []
          },
          "execution_count": 4
        }
      ]
    },
    {
      "cell_type": "markdown",
      "metadata": {
        "id": "82l60bgp0vR5"
      },
      "source": [
        "There is no missing data in the dataframe."
      ]
    },
    {
      "cell_type": "markdown",
      "metadata": {
        "id": "5ZeOv8ELAy8u"
      },
      "source": [
        "5) Calculate and interpret the correlation coefficient for the relationship between head size and brain weight.  "
      ]
    },
    {
      "cell_type": "code",
      "metadata": {
        "id": "GyoPNwziBm-5",
        "colab": {
          "base_uri": "https://localhost:8080/"
        },
        "outputId": "f6e7510f-218e-4bf5-fadc-c463eb67d13b"
      },
      "source": [
        "### YOUR CODE HERE ###\n",
        "import numpy as np\n",
        "r = np.corrcoef(df['Head'], df['Brain'])\n",
        "print(r)"
      ],
      "execution_count": 5,
      "outputs": [
        {
          "output_type": "stream",
          "text": [
            "[[1.         0.79956971]\n",
            " [0.79956971 1.        ]]\n"
          ],
          "name": "stdout"
        }
      ]
    },
    {
      "cell_type": "markdown",
      "metadata": {
        "id": "XK5-ZKk_DFLh"
      },
      "source": [
        "There is a moderate correlation between head size and brain weight. "
      ]
    },
    {
      "cell_type": "markdown",
      "metadata": {
        "id": "AzdWVytNTTib"
      },
      "source": [
        "6) Without doing any other calculations, determine the correlation of brain weight with head size."
      ]
    },
    {
      "cell_type": "markdown",
      "metadata": {
        "id": "N1DwNk3MrIp3"
      },
      "source": [
        "Answer here: \n",
        ".7996"
      ]
    },
    {
      "cell_type": "markdown",
      "metadata": {
        "id": "RFa5JXjmxive"
      },
      "source": [
        "7) Use Python to calculate the slope and intercept terms for the model of head size and brain weight."
      ]
    },
    {
      "cell_type": "code",
      "metadata": {
        "id": "dWWiUtwTyHp2",
        "colab": {
          "base_uri": "https://localhost:8080/"
        },
        "outputId": "27a8c7ce-8a74-4f59-c915-fbda503e95eb"
      },
      "source": [
        "### YOUR CODE HERE ###\n",
        "from statsmodels.formula.api import ols\n",
        "model = ols('Brain ~ Head', data = df).fit()\n",
        "model.params"
      ],
      "execution_count": 6,
      "outputs": [
        {
          "output_type": "stream",
          "text": [
            "/usr/local/lib/python3.6/dist-packages/statsmodels/tools/_testing.py:19: FutureWarning: pandas.util.testing is deprecated. Use the functions in the public API at pandas.testing instead.\n",
            "  import pandas.util.testing as tm\n"
          ],
          "name": "stderr"
        },
        {
          "output_type": "execute_result",
          "data": {
            "text/plain": [
              "Intercept    325.573421\n",
              "Head           0.263429\n",
              "dtype: float64"
            ]
          },
          "metadata": {
            "tags": []
          },
          "execution_count": 6
        }
      ]
    },
    {
      "cell_type": "markdown",
      "metadata": {
        "id": "aAAlveuK050b"
      },
      "source": [
        "8) Use the model output above to write the linear model relating head size to brain weight (ie fill in the b terms with the correct numbers from above).\n",
        "\n",
        "$$\\hat{Y} = b_0 - b_1X$$\n",
        "\n"
      ]
    },
    {
      "cell_type": "markdown",
      "metadata": {
        "id": "lm3Q5xItygsW"
      },
      "source": [
        "𝑌̂ = 325.5-.26x"
      ]
    },
    {
      "cell_type": "markdown",
      "metadata": {
        "id": "_KlS62UB1UAi"
      },
      "source": [
        "9) What does the slope term tell us about the relationship between head size and brain weight?"
      ]
    },
    {
      "cell_type": "markdown",
      "metadata": {
        "id": "DW4aHn_t1saW"
      },
      "source": [
        "For a 1 unit increase in Head size, we expect the brain to be about .26 G more. "
      ]
    },
    {
      "cell_type": "markdown",
      "metadata": {
        "id": "BXsUc9n02Th0"
      },
      "source": [
        "10) What does the intercept tell us about the relationship between head size and brain weight?"
      ]
    },
    {
      "cell_type": "markdown",
      "metadata": {
        "id": "Zy58W12J4JJu"
      },
      "source": [
        "Answer here: 0 is not an x value in the data set, so it does not make sense to interpret it. "
      ]
    },
    {
      "cell_type": "markdown",
      "metadata": {
        "id": "f0NjkceYb2sY"
      },
      "source": [
        "11) Draw a scatterplot with the regression line overlayed on top of the points."
      ]
    },
    {
      "cell_type": "code",
      "metadata": {
        "id": "dKxmzQLYabfm",
        "colab": {
          "base_uri": "https://localhost:8080/",
          "height": 279
        },
        "outputId": "aee31e07-d625-4d67-a5e9-a4a49273c179"
      },
      "source": [
        "### YOUR CODE HERE ###\n",
        "import seaborn as sns\n",
        "ax=sns.regplot(x='Head', y='Brain', data=df, ci=None)"
      ],
      "execution_count": 7,
      "outputs": [
        {
          "output_type": "display_data",
          "data": {
            "image/png": "[encoded data removed]",
            "text/plain": [
              "<Figure size 432x288 with 1 Axes>"
            ]
          },
          "metadata": {
            "tags": [],
            "needs_background": "light"
          }
        }
      ]
    },
    {
      "cell_type": "markdown",
      "metadata": {
        "id": "7dySccNE3pX7"
      },
      "source": [
        "12) A healty human has a brain size of 4100 cubic cm, how much do we expect his or her brain to weigh?"
      ]
    },
    {
      "cell_type": "code",
      "metadata": {
        "id": "BNV0bbzH4NFX",
        "colab": {
          "base_uri": "https://localhost:8080/"
        },
        "outputId": "7b4c696a-629b-41f1-f027-47f1e2c5053a"
      },
      "source": [
        "### YOUR CODE HERE ###\n",
        "x=4100\n",
        "intercept=model.params[0]\n",
        "slope=model.params[1]\n",
        "predict = intercept + slope*x\n",
        "print(predict)"
      ],
      "execution_count": 8,
      "outputs": [
        {
          "output_type": "stream",
          "text": [
            "1405.6337129559786\n"
          ],
          "name": "stdout"
        }
      ]
    },
    {
      "cell_type": "markdown",
      "metadata": {
        "id": "OnGU23JI6C1r"
      },
      "source": [
        "\n",
        "\n",
        "```\n",
        "# This is formatted as code\n",
        "```\n",
        "\n",
        "1406 grams"
      ]
    },
    {
      "cell_type": "markdown",
      "metadata": {
        "id": "rogizl36Bape"
      },
      "source": [
        "13) Calculate and interpret the model residual for for the first observation in the dataset (head size = 4512 cubic cm)."
      ]
    },
    {
      "cell_type": "code",
      "metadata": {
        "id": "L9_qbtRtBnvr",
        "colab": {
          "base_uri": "https://localhost:8080/",
          "height": 204
        },
        "outputId": "4d1215d4-4340-4f38-82a6-6db815f80245"
      },
      "source": [
        "df.head()\n"
      ],
      "execution_count": 13,
      "outputs": [
        {
          "output_type": "execute_result",
          "data": {
            "text/html": [
              "<div>\n",
              "<style scoped>\n",
              "    .dataframe tbody tr th:only-of-type {\n",
              "        vertical-align: middle;\n",
              "    }\n",
              "\n",
              "    .dataframe tbody tr th {\n",
              "        vertical-align: top;\n",
              "    }\n",
              "\n",
              "    .dataframe thead th {\n",
              "        text-align: right;\n",
              "    }\n",
              "</style>\n",
              "<table border=\"1\" class=\"dataframe\">\n",
              "  <thead>\n",
              "    <tr style=\"text-align: right;\">\n",
              "      <th></th>\n",
              "      <th>Gender</th>\n",
              "      <th>Age</th>\n",
              "      <th>Head</th>\n",
              "      <th>Brain</th>\n",
              "    </tr>\n",
              "  </thead>\n",
              "  <tbody>\n",
              "    <tr>\n",
              "      <th>0</th>\n",
              "      <td>1</td>\n",
              "      <td>1</td>\n",
              "      <td>4512</td>\n",
              "      <td>1530</td>\n",
              "    </tr>\n",
              "    <tr>\n",
              "      <th>1</th>\n",
              "      <td>1</td>\n",
              "      <td>1</td>\n",
              "      <td>3738</td>\n",
              "      <td>1297</td>\n",
              "    </tr>\n",
              "    <tr>\n",
              "      <th>2</th>\n",
              "      <td>1</td>\n",
              "      <td>1</td>\n",
              "      <td>4261</td>\n",
              "      <td>1335</td>\n",
              "    </tr>\n",
              "    <tr>\n",
              "      <th>3</th>\n",
              "      <td>1</td>\n",
              "      <td>1</td>\n",
              "      <td>3777</td>\n",
              "      <td>1282</td>\n",
              "    </tr>\n",
              "    <tr>\n",
              "      <th>4</th>\n",
              "      <td>1</td>\n",
              "      <td>1</td>\n",
              "      <td>4177</td>\n",
              "      <td>1590</td>\n",
              "    </tr>\n",
              "  </tbody>\n",
              "</table>\n",
              "</div>"
            ],
            "text/plain": [
              "   Gender  Age  Head  Brain\n",
              "0       1    1  4512   1530\n",
              "1       1    1  3738   1297\n",
              "2       1    1  4261   1335\n",
              "3       1    1  3777   1282\n",
              "4       1    1  4177   1590"
            ]
          },
          "metadata": {
            "tags": []
          },
          "execution_count": 13
        }
      ]
    },
    {
      "cell_type": "code",
      "metadata": {
        "id": "d8hURY1HBq6v",
        "colab": {
          "base_uri": "https://localhost:8080/"
        },
        "outputId": "c8e8418d-9778-46ec-fddd-b4f50d5efad5"
      },
      "source": [
        "### YOUR CODE HERE ###\n",
        "observed=1530\n",
        "x=4512\n",
        "intercept=model.params[0]\n",
        "slope =model.params[1]\n",
        "prediect =intercept+slope*x\n",
        "#print(predict)\n",
        "residual = observed-predict\n",
        "print(residual)\n",
        "print(predict)\n",
        "print(observed)"
      ],
      "execution_count": 15,
      "outputs": [
        {
          "output_type": "stream",
          "text": [
            "124.36628704402142\n",
            "1405.6337129559786\n",
            "1530\n"
          ],
          "name": "stdout"
        }
      ]
    },
    {
      "cell_type": "markdown",
      "metadata": {
        "id": "75sfaALjCB4f"
      },
      "source": [
        "Answer here: Residual =124.4\n",
        "Our model underestimated the weight of the brain based on the head size. "
      ]
    },
    {
      "cell_type": "markdown",
      "metadata": {
        "id": "C4NzMnGd7bVI"
      },
      "source": [
        "#Use the following information to answer questions 14 - 16 in the assignment:\n",
        "\n"
      ]
    },
    {
      "cell_type": "markdown",
      "metadata": {
        "id": "T1TDNIibteov"
      },
      "source": [
        "Import the Sleep.csv dataset from a URL and print the first few rows\n",
        "\n",
        "Researchers recorded data on sleep duration as well as a set of ecological and constitutional variables  for a selection of mammal species. This data appears in the Sleep.csv dataset. \n",
        "\n",
        "\n",
        "Source: Allison, T. and Cicchetti, D. (1976), \"Sleep in Mammals: Ecological and Constitutional Correlates\",  Science, November 12, vol. 194, pp. 732-734.\n",
        "\n",
        "\n",
        "\n",
        "Data Dictionary:\n",
        "\n",
        "| Variable Name |            Description           |                                                                 Details                                                                 |              |   |\n",
        "|:-------------:|:--------------------------------:|:---------------------------------------------------------------------------------------------------------------------------------------:|--------------|---|\n",
        "| Animal        |            Animal name           |                                                            Character [string]                                                           |    |   |\n",
        "| Body          |            Body weight           |                                                               Numeric [kg]                                                              |       |   |\n",
        "| Brain         |           Brain weight           |                                                               Numeric [g]                                                               |  |   |\n",
        "| SWsleep       | Slow wave (“non-dreaming”) sleep | Numeric [hours]                                                                                                                         |              |   |\n",
        "| Parasleep     | Paradoxical (“dreaming”) sleep   | Numeric [hours]                                                                                                                         |              |   |\n",
        "| Totsleep      | Total sleep                      | Numeric [hours]                                                                                                                         |              |   |\n",
        "| Life          | Maximum life expectancy          | Numeric [years]                                                                                                                         |              |   |\n",
        "| Gest          | Gestation time                   | Numeric [days]                                                                                                                          |              |   |\n",
        "| Pred          | Predation index                  | Numeric [1 – 5] 1 = least likely to be preyed upon, 5 = most likely to be preyed upon                                                   |              |   |\n",
        "| Exposure      | Sleep exposure index             | Numeric [1 – 5] 1 = least amount of exposure during sleep (mammal sleeps indoors or in a den), 5 = most amount of exposure during sleep |              |   |\n",
        "| Danger        | Overall danger index             | Numeric [ 1 – 5] 1 = least amount of danger from other animals, 5 = most amount of danger from other animals                            |              |   |\n",
        "\n"
      ]
    },
    {
      "cell_type": "code",
      "metadata": {
        "id": "lAGRV2LkuKyw",
        "colab": {
          "base_uri": "https://localhost:8080/",
          "height": 204
        },
        "outputId": "ea1af1e7-c2d1-4bbb-b2a6-455e3f8a38e8"
      },
      "source": [
        "data_url = 'https://raw.githubusercontent.com/LambdaSchool/data-science-practice-datasets/main/unit_1/Sleep/Sleep.csv'\n",
        "\n",
        "sleep = pd.read_csv(data_url, skipinitialspace=True, header=0)\n",
        "\n",
        "sleep.head()"
      ],
      "execution_count": 16,
      "outputs": [
        {
          "output_type": "execute_result",
          "data": {
            "text/html": [
              "<div>\n",
              "<style scoped>\n",
              "    .dataframe tbody tr th:only-of-type {\n",
              "        vertical-align: middle;\n",
              "    }\n",
              "\n",
              "    .dataframe tbody tr th {\n",
              "        vertical-align: top;\n",
              "    }\n",
              "\n",
              "    .dataframe thead th {\n",
              "        text-align: right;\n",
              "    }\n",
              "</style>\n",
              "<table border=\"1\" class=\"dataframe\">\n",
              "  <thead>\n",
              "    <tr style=\"text-align: right;\">\n",
              "      <th></th>\n",
              "      <th>Animal</th>\n",
              "      <th>Body</th>\n",
              "      <th>Brain</th>\n",
              "      <th>SWsleep</th>\n",
              "      <th>Parasleep</th>\n",
              "      <th>Totsleep</th>\n",
              "      <th>Life</th>\n",
              "      <th>Gest</th>\n",
              "      <th>Pred</th>\n",
              "      <th>Exposure</th>\n",
              "      <th>Danger</th>\n",
              "    </tr>\n",
              "  </thead>\n",
              "  <tbody>\n",
              "    <tr>\n",
              "      <th>0</th>\n",
              "      <td>African_giant_pouched_rat</td>\n",
              "      <td>1.000</td>\n",
              "      <td>6.6</td>\n",
              "      <td>6.3</td>\n",
              "      <td>2.0</td>\n",
              "      <td>8.3</td>\n",
              "      <td>4.5</td>\n",
              "      <td>42.0</td>\n",
              "      <td>3</td>\n",
              "      <td>1</td>\n",
              "      <td>3</td>\n",
              "    </tr>\n",
              "    <tr>\n",
              "      <th>1</th>\n",
              "      <td>Asian_elephant</td>\n",
              "      <td>2547.000</td>\n",
              "      <td>4603.0</td>\n",
              "      <td>2.1</td>\n",
              "      <td>1.8</td>\n",
              "      <td>3.9</td>\n",
              "      <td>69.0</td>\n",
              "      <td>624.0</td>\n",
              "      <td>3</td>\n",
              "      <td>5</td>\n",
              "      <td>4</td>\n",
              "    </tr>\n",
              "    <tr>\n",
              "      <th>2</th>\n",
              "      <td>Baboon</td>\n",
              "      <td>10.550</td>\n",
              "      <td>179.5</td>\n",
              "      <td>9.1</td>\n",
              "      <td>0.7</td>\n",
              "      <td>9.8</td>\n",
              "      <td>27.0</td>\n",
              "      <td>180.0</td>\n",
              "      <td>4</td>\n",
              "      <td>4</td>\n",
              "      <td>4</td>\n",
              "    </tr>\n",
              "    <tr>\n",
              "      <th>3</th>\n",
              "      <td>Big_brown_bat</td>\n",
              "      <td>0.023</td>\n",
              "      <td>0.3</td>\n",
              "      <td>15.8</td>\n",
              "      <td>3.9</td>\n",
              "      <td>19.7</td>\n",
              "      <td>19.0</td>\n",
              "      <td>35.0</td>\n",
              "      <td>1</td>\n",
              "      <td>1</td>\n",
              "      <td>1</td>\n",
              "    </tr>\n",
              "    <tr>\n",
              "      <th>4</th>\n",
              "      <td>Brazilian_tapir</td>\n",
              "      <td>160.000</td>\n",
              "      <td>169.0</td>\n",
              "      <td>5.2</td>\n",
              "      <td>1.0</td>\n",
              "      <td>6.2</td>\n",
              "      <td>30.4</td>\n",
              "      <td>392.0</td>\n",
              "      <td>4</td>\n",
              "      <td>5</td>\n",
              "      <td>4</td>\n",
              "    </tr>\n",
              "  </tbody>\n",
              "</table>\n",
              "</div>"
            ],
            "text/plain": [
              "                      Animal      Body   Brain  ...  Pred  Exposure  Danger\n",
              "0  African_giant_pouched_rat     1.000     6.6  ...     3         1       3\n",
              "1             Asian_elephant  2547.000  4603.0  ...     3         5       4\n",
              "2                     Baboon    10.550   179.5  ...     4         4       4\n",
              "3              Big_brown_bat     0.023     0.3  ...     1         1       1\n",
              "4            Brazilian_tapir   160.000   169.0  ...     4         5       4\n",
              "\n",
              "[5 rows x 11 columns]"
            ]
          },
          "metadata": {
            "tags": []
          },
          "execution_count": 16
        }
      ]
    },
    {
      "cell_type": "markdown",
      "metadata": {
        "id": "bren8oq27vGP"
      },
      "source": [
        "14) Write a function that replaces the _ in each animal name with a space.  Eg. Asian_elephant = Asian elephant.  Hint: use the string.replace(old, new, count) function."
      ]
    },
    {
      "cell_type": "code",
      "metadata": {
        "id": "IDTgzW2B8RLn",
        "colab": {
          "base_uri": "https://localhost:8080/"
        },
        "outputId": "1dd74837-2627-4182-8625-a3f082357170"
      },
      "source": [
        "### YOUR CODE HERE ###\n",
        "\n",
        "sleep.Animal = sleep.Animal.str.replace('_', ' ') \n",
        "print(\"\\n\\n\", sleep) "
      ],
      "execution_count": 22,
      "outputs": [
        {
          "output_type": "stream",
          "text": [
            "\n",
            "\n",
            "                        Animal      Body    Brain  ...  Pred  Exposure  Danger\n",
            "0   African giant pouched rat     1.000     6.60  ...     3         1       3\n",
            "1              Asian elephant  2547.000  4603.00  ...     3         5       4\n",
            "2                      Baboon    10.550   179.50  ...     4         4       4\n",
            "3               Big brown bat     0.023     0.30  ...     1         1       1\n",
            "4             Brazilian tapir   160.000   169.00  ...     4         5       4\n",
            "5                         Cat     3.300    25.60  ...     1         2       1\n",
            "6                  Chimpanzee    52.160   440.00  ...     1         1       1\n",
            "7                  Chinchilla     0.425     6.40  ...     5         4       4\n",
            "8                         Cow   465.000   423.00  ...     5         5       5\n",
            "9       Eastern American mole     0.075     1.20  ...     1         1       1\n",
            "10                    Echidna     3.000    25.00  ...     2         2       2\n",
            "11          European hedgehog     0.785     3.50  ...     2         2       2\n",
            "12                     Galago     0.200     5.00  ...     2         2       2\n",
            "13                       Goat    27.660   115.00  ...     5         5       5\n",
            "14             Golden hamster     0.120     1.00  ...     3         1       2\n",
            "15                  Gray seal    85.000   325.00  ...     1         3       1\n",
            "16            Ground squirrel     0.101     4.00  ...     5         1       3\n",
            "17                 Guinea pig     1.040     5.50  ...     5         3       4\n",
            "18                      Horse   521.000   655.00  ...     5         5       5\n",
            "19  Lesser short tailed shrew     0.005     0.14  ...     5         2       4\n",
            "20           Little brown bat     0.010     0.25  ...     1         1       1\n",
            "21                      Human    62.000  1320.00  ...     1         1       1\n",
            "22                      Mouse     0.023     0.40  ...     4         1       3\n",
            "23                 Musk shrew     0.048     0.33  ...     4         1       3\n",
            "24         N American opossum     1.700     6.30  ...     2         1       1\n",
            "25      Nine banded armadillo     3.500    10.80  ...     2         1       1\n",
            "26                 Owl monkey     0.480    15.50  ...     2         2       2\n",
            "27               Patas monkey    10.000   115.00  ...     4         4       4\n",
            "28                 Phanlanger     1.620    11.40  ...     2         1       2\n",
            "29                        Pig   192.000   180.00  ...     4         4       4\n",
            "30                     Rabbit     2.500    12.10  ...     5         5       5\n",
            "31                        Rat     0.280     1.90  ...     3         1       3\n",
            "32                    Red fox     4.235    50.40  ...     1         1       1\n",
            "33              Rhesus monkey     6.800   179.00  ...     2         3       2\n",
            "34      Rock hyrax (Hetero b)     0.750    12.30  ...     2         2       2\n",
            "35  Rock hyrax (Procavia hab)     3.600    21.00  ...     3         2       3\n",
            "36                      Sheep    55.500   175.00  ...     5         5       5\n",
            "37                     Tenrec     0.900     2.60  ...     2         1       2\n",
            "38                 Tree hyrax     2.000    12.30  ...     3         1       3\n",
            "39                 Tree shrew     0.104     2.50  ...     3         2       2\n",
            "40                     Vervet     4.190    58.00  ...     4         3       4\n",
            "41              Water opossum     3.500     3.90  ...     2         1       1\n",
            "\n",
            "[42 rows x 11 columns]\n"
          ],
          "name": "stdout"
        }
      ]
    },
    {
      "cell_type": "markdown",
      "metadata": {
        "id": "y0MUOeae-P2z"
      },
      "source": [
        "15) Plot the relationship between life expectancy and total sleep and gestation time and total sleep."
      ]
    },
    {
      "cell_type": "code",
      "metadata": {
        "id": "d8oTfgl5-WPG",
        "colab": {
          "base_uri": "https://localhost:8080/",
          "height": 567
        },
        "outputId": "8c3e818b-5774-4031-8333-129c3464abfe"
      },
      "source": [
        "### YOUR CODE HERE ###\n",
        "to_plot=sleep[['Life', 'Totsleep','Gest']]\n",
        "sns.pairplot(to_plot)"
      ],
      "execution_count": 23,
      "outputs": [
        {
          "output_type": "execute_result",
          "data": {
            "text/plain": [
              "<seaborn.axisgrid.PairGrid at 0x7f5dfebb4b70>"
            ]
          },
          "metadata": {
            "tags": []
          },
          "execution_count": 23
        },
        {
          "output_type": "display_data",
          "data": {
            "image/png": "[encoded data removed]",
            "text/plain": [
              "<Figure size 540x540 with 12 Axes>"
            ]
          },
          "metadata": {
            "tags": [],
            "needs_background": "light"
          }
        }
      ]
    },
    {
      "cell_type": "markdown",
      "metadata": {
        "id": "vOHOv5cc-plj"
      },
      "source": [
        "16) Calculate the correlation between life expectancy and total sleep and between gestation time and total sleep."
      ]
    },
    {
      "cell_type": "code",
      "metadata": {
        "id": "DlhS1o27-ss8",
        "colab": {
          "base_uri": "https://localhost:8080/"
        },
        "outputId": "82486300-448d-49ea-f2e2-cbdc2127de44"
      },
      "source": [
        "### YOUR CODE HERE ###\n",
        "import numpy as np\n",
        "r1=np.corrcoef(sleep['Life'], sleep['Totsleep'])\n",
        "r2=np.corrcoef(sleep['Gest'], sleep['Totsleep'])\n",
        "print('Correlation between life expectancy and total sleep',r1[0,1])\n",
        "print('Correlation between gestation and total sleep',r2[0,1])"
      ],
      "execution_count": 24,
      "outputs": [
        {
          "output_type": "stream",
          "text": [
            "Correlation between life expectancy and total sleep -0.3824461769490717\n",
            "Correlation between gestation and total sleep -0.6144743061371066\n"
          ],
          "name": "stdout"
        }
      ]
    },
    {
      "cell_type": "markdown",
      "metadata": {
        "id": "LSVXvBZGcF48"
      },
      "source": [
        "#Portfolio Project Assignment."
      ]
    },
    {
      "cell_type": "markdown",
      "metadata": {
        "id": "dnM2THk30l36"
      },
      "source": [
        "We're coming into the home stretch!  Finalize your project results.  Ask any lingering questions, and complete any revisions you have.  This would be a good time to have a classmate take a look at your project and point out anything missing or any obvious errors (they happen to everyone!)."
      ]
    }
  ]
}