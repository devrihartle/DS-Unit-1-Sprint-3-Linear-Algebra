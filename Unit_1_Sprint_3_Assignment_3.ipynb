{
  "nbformat": 4,
  "nbformat_minor": 0,
  "metadata": {
    "colab": {
      "name": "Unit 1 Sprint 3 Assignment 3",
      "provenance": [],
      "collapsed_sections": [],
      "include_colab_link": true
    },
    "kernelspec": {
      "name": "python3",
      "display_name": "Python 3"
    }
  },
  "cells": [
    {
      "cell_type": "markdown",
      "metadata": {
        "id": "view-in-github",
        "colab_type": "text"
      },
      "source": [
        "<a href=\"https://colab.research.google.com/github/devrihartle/DS-Unit-1-Sprint-3-Linear-Algebra/blob/master/Unit_1_Sprint_3_Assignment_3.ipynb\" target=\"_parent\"><img src=\"https://colab.research.google.com/assets/colab-badge.svg\" alt=\"Open In Colab\"/></a>"
      ]
    },
    {
      "cell_type": "markdown",
      "metadata": {
        "id": "RQw2GTc8oDRw"
      },
      "source": [
        "Unit 1, Sprint 3, Module 3\n",
        "\n",
        "###Learning Objectives:\n",
        "- Student can model the relationship of multple predictor variables to a single outcome.\n",
        "- Student can conduct a t-test to determine the significance of individual variables in the model.\n",
        "- Student can compare model fit using R-squared"
      ]
    },
    {
      "cell_type": "markdown",
      "metadata": {
        "id": "cFb8YfSCQJmx"
      },
      "source": [
        "#Use the following information to answer assignment questions 1 - 13."
      ]
    },
    {
      "cell_type": "markdown",
      "metadata": {
        "id": "MHWnltybtm8_"
      },
      "source": [
        "###Is head size related to brain weight in healthy adult humans?\n",
        "\n",
        "The Brainhead.csv dataset provides information on 237 individuals who were subject to post-mortem examination at the Middlesex Hospital in London around the turn of the 20th century. Study authors used cadavers to see if a relationship between brain weight and other more easily measured physiological characterizes such as age, sex, and head size could be determined. The end goal was to develop a way to estimate a person’s brain size while they were still alive (as the living aren’t keen on having their brains taken out and weighed). "
      ]
    },
    {
      "cell_type": "markdown",
      "metadata": {
        "id": "h5MRpr1HQHqp"
      },
      "source": [
        "**We wish to determine if we can improve on our model of the linear relationship between head size and brain weight in healthy human adults.**\n",
        "\n",
        "Source: R.J. Gladstone (1905). \"A Study of the Relations of the Brain to the Size of the Head\", Biometrika, Vol. 4, pp105-123."
      ]
    },
    {
      "cell_type": "code",
      "metadata": {
        "id": "0NKz1DvXQHqq",
        "colab": {
          "base_uri": "https://localhost:8080/",
          "height": 204
        },
        "outputId": "d0693db9-38f4-4026-f9c9-277c609bf376"
      },
      "source": [
        "#Import the Brainhead.csv dataset from a URL and print the first few rows\n",
        "\n",
        "import pandas as pd\n",
        "import numpy as np\n",
        "\n",
        "\n",
        "data_url = 'https://raw.githubusercontent.com/LambdaSchool/data-science-practice-datasets/main/unit_1/Brainhead/Brainhead.csv'\n",
        "\n",
        "df = pd.read_csv(data_url, skipinitialspace=True, header=0)\n",
        "\n",
        "df.head()"
      ],
      "execution_count": 43,
      "outputs": [
        {
          "output_type": "execute_result",
          "data": {
            "text/html": [
              "<div>\n",
              "<style scoped>\n",
              "    .dataframe tbody tr th:only-of-type {\n",
              "        vertical-align: middle;\n",
              "    }\n",
              "\n",
              "    .dataframe tbody tr th {\n",
              "        vertical-align: top;\n",
              "    }\n",
              "\n",
              "    .dataframe thead th {\n",
              "        text-align: right;\n",
              "    }\n",
              "</style>\n",
              "<table border=\"1\" class=\"dataframe\">\n",
              "  <thead>\n",
              "    <tr style=\"text-align: right;\">\n",
              "      <th></th>\n",
              "      <th>Gender</th>\n",
              "      <th>Age</th>\n",
              "      <th>Head</th>\n",
              "      <th>Brain</th>\n",
              "    </tr>\n",
              "  </thead>\n",
              "  <tbody>\n",
              "    <tr>\n",
              "      <th>0</th>\n",
              "      <td>1</td>\n",
              "      <td>1</td>\n",
              "      <td>4512</td>\n",
              "      <td>1530</td>\n",
              "    </tr>\n",
              "    <tr>\n",
              "      <th>1</th>\n",
              "      <td>1</td>\n",
              "      <td>1</td>\n",
              "      <td>3738</td>\n",
              "      <td>1297</td>\n",
              "    </tr>\n",
              "    <tr>\n",
              "      <th>2</th>\n",
              "      <td>1</td>\n",
              "      <td>1</td>\n",
              "      <td>4261</td>\n",
              "      <td>1335</td>\n",
              "    </tr>\n",
              "    <tr>\n",
              "      <th>3</th>\n",
              "      <td>1</td>\n",
              "      <td>1</td>\n",
              "      <td>3777</td>\n",
              "      <td>1282</td>\n",
              "    </tr>\n",
              "    <tr>\n",
              "      <th>4</th>\n",
              "      <td>1</td>\n",
              "      <td>1</td>\n",
              "      <td>4177</td>\n",
              "      <td>1590</td>\n",
              "    </tr>\n",
              "  </tbody>\n",
              "</table>\n",
              "</div>"
            ],
            "text/plain": [
              "   Gender  Age  Head  Brain\n",
              "0       1    1  4512   1530\n",
              "1       1    1  3738   1297\n",
              "2       1    1  4261   1335\n",
              "3       1    1  3777   1282\n",
              "4       1    1  4177   1590"
            ]
          },
          "metadata": {
            "tags": []
          },
          "execution_count": 43
        }
      ]
    },
    {
      "cell_type": "markdown",
      "metadata": {
        "id": "EvmC93blRIDu"
      },
      "source": [
        "From the data dictionary:\n",
        "\n",
        "Gender: 1 = male, 2 = female\n",
        "\n",
        "Age: 1 = younger than age 46, 2 = age 46 and older"
      ]
    },
    {
      "cell_type": "markdown",
      "metadata": {
        "id": "4eJsXuRLxKrz"
      },
      "source": [
        "1) Run the OLS model relating head size to brain weight (you should have done this in your project yesterday) and print your results"
      ]
    },
    {
      "cell_type": "code",
      "metadata": {
        "id": "c9qyMXd_Hh6l",
        "colab": {
          "base_uri": "https://localhost:8080/"
        },
        "outputId": "46cf2766-a342-4a72-fa37-96b9480a8290"
      },
      "source": [
        "### YOUR CODE HERE ###\n",
        "from statsmodels.formula.api import ols\n",
        "model = ols('Brain~Head', data=df).fit()\n",
        "print(model.summary())"
      ],
      "execution_count": 44,
      "outputs": [
        {
          "output_type": "stream",
          "text": [
            "                            OLS Regression Results                            \n",
            "==============================================================================\n",
            "Dep. Variable:                  Brain   R-squared:                       0.639\n",
            "Model:                            OLS   Adj. R-squared:                  0.638\n",
            "Method:                 Least Squares   F-statistic:                     416.5\n",
            "Date:                Tue, 08 Dec 2020   Prob (F-statistic):           5.96e-54\n",
            "Time:                        17:07:18   Log-Likelihood:                -1350.3\n",
            "No. Observations:                 237   AIC:                             2705.\n",
            "Df Residuals:                     235   BIC:                             2711.\n",
            "Df Model:                           1                                         \n",
            "Covariance Type:            nonrobust                                         \n",
            "==============================================================================\n",
            "                 coef    std err          t      P>|t|      [0.025      0.975]\n",
            "------------------------------------------------------------------------------\n",
            "Intercept    325.5734     47.141      6.906      0.000     232.701     418.446\n",
            "Head           0.2634      0.013     20.409      0.000       0.238       0.289\n",
            "==============================================================================\n",
            "Omnibus:                        8.329   Durbin-Watson:                   1.843\n",
            "Prob(Omnibus):                  0.016   Jarque-Bera (JB):                8.665\n",
            "Skew:                           0.366   Prob(JB):                       0.0131\n",
            "Kurtosis:                       3.584   Cond. No.                     3.66e+04\n",
            "==============================================================================\n",
            "\n",
            "Warnings:\n",
            "[1] Standard Errors assume that the covariance matrix of the errors is correctly specified.\n",
            "[2] The condition number is large, 3.66e+04. This might indicate that there are\n",
            "strong multicollinearity or other numerical problems.\n"
          ],
          "name": "stdout"
        }
      ]
    },
    {
      "cell_type": "markdown",
      "metadata": {
        "id": "y21TW4n67mNq"
      },
      "source": [
        "2) What is the adjusted $R^2$ for this model?  Explain what this value means in a complete sentence.\n",
        "\n"
      ]
    },
    {
      "cell_type": "markdown",
      "metadata": {
        "id": "8GuTIO3Nvkyb"
      },
      "source": [
        "Answer here: .638, it is an adjusted version of the R Squared that accounts for the amount of predictors in the model and penalizes large amounts of predictors. \n"
      ]
    },
    {
      "cell_type": "markdown",
      "metadata": {
        "id": "Xj2YmBd_Jl9q"
      },
      "source": [
        "3) Right now age and gender are coded with 1 and 2.  Just to be safe when we run our model, we want to subtract \"1\" from Age and Gender so that \"1\" is now coded as \"0\" and \"2\" is now coded as \"1\".  Create two new variables in the dataframe to do this - don't overwrite the original variables."
      ]
    },
    {
      "cell_type": "code",
      "metadata": {
        "id": "z9z5i-EaKcj6",
        "colab": {
          "base_uri": "https://localhost:8080/",
          "height": 204
        },
        "outputId": "ca00c74f-69d1-42a0-9b52-3fd1ba8d365d"
      },
      "source": [
        "### YOUR CODE HERE ###\n",
        "df['new_age']= df['Age']-1\n",
        "df['new_gender']= df['Gender']-1\n",
        "df.head()"
      ],
      "execution_count": 45,
      "outputs": [
        {
          "output_type": "execute_result",
          "data": {
            "text/html": [
              "<div>\n",
              "<style scoped>\n",
              "    .dataframe tbody tr th:only-of-type {\n",
              "        vertical-align: middle;\n",
              "    }\n",
              "\n",
              "    .dataframe tbody tr th {\n",
              "        vertical-align: top;\n",
              "    }\n",
              "\n",
              "    .dataframe thead th {\n",
              "        text-align: right;\n",
              "    }\n",
              "</style>\n",
              "<table border=\"1\" class=\"dataframe\">\n",
              "  <thead>\n",
              "    <tr style=\"text-align: right;\">\n",
              "      <th></th>\n",
              "      <th>Gender</th>\n",
              "      <th>Age</th>\n",
              "      <th>Head</th>\n",
              "      <th>Brain</th>\n",
              "      <th>new_age</th>\n",
              "      <th>new_gender</th>\n",
              "    </tr>\n",
              "  </thead>\n",
              "  <tbody>\n",
              "    <tr>\n",
              "      <th>0</th>\n",
              "      <td>1</td>\n",
              "      <td>1</td>\n",
              "      <td>4512</td>\n",
              "      <td>1530</td>\n",
              "      <td>0</td>\n",
              "      <td>0</td>\n",
              "    </tr>\n",
              "    <tr>\n",
              "      <th>1</th>\n",
              "      <td>1</td>\n",
              "      <td>1</td>\n",
              "      <td>3738</td>\n",
              "      <td>1297</td>\n",
              "      <td>0</td>\n",
              "      <td>0</td>\n",
              "    </tr>\n",
              "    <tr>\n",
              "      <th>2</th>\n",
              "      <td>1</td>\n",
              "      <td>1</td>\n",
              "      <td>4261</td>\n",
              "      <td>1335</td>\n",
              "      <td>0</td>\n",
              "      <td>0</td>\n",
              "    </tr>\n",
              "    <tr>\n",
              "      <th>3</th>\n",
              "      <td>1</td>\n",
              "      <td>1</td>\n",
              "      <td>3777</td>\n",
              "      <td>1282</td>\n",
              "      <td>0</td>\n",
              "      <td>0</td>\n",
              "    </tr>\n",
              "    <tr>\n",
              "      <th>4</th>\n",
              "      <td>1</td>\n",
              "      <td>1</td>\n",
              "      <td>4177</td>\n",
              "      <td>1590</td>\n",
              "      <td>0</td>\n",
              "      <td>0</td>\n",
              "    </tr>\n",
              "  </tbody>\n",
              "</table>\n",
              "</div>"
            ],
            "text/plain": [
              "   Gender  Age  Head  Brain  new_age  new_gender\n",
              "0       1    1  4512   1530        0           0\n",
              "1       1    1  3738   1297        0           0\n",
              "2       1    1  4261   1335        0           0\n",
              "3       1    1  3777   1282        0           0\n",
              "4       1    1  4177   1590        0           0"
            ]
          },
          "metadata": {
            "tags": []
          },
          "execution_count": 45
        }
      ]
    },
    {
      "cell_type": "markdown",
      "metadata": {
        "id": "DGuhAOmhId9d"
      },
      "source": [
        "4) Model the relationship of age group and head size to brain weight."
      ]
    },
    {
      "cell_type": "code",
      "metadata": {
        "id": "d6fY5PSPIuOi",
        "colab": {
          "base_uri": "https://localhost:8080/"
        },
        "outputId": "6bd4094d-ed52-484c-f65e-990ba6c8023b"
      },
      "source": [
        "### YOUR CODE HERE ###\n",
        "from statsmodels.formula.api import ols\n",
        "model = ols('Brain ~ Head + new_age', data=df).fit()\n",
        "print(model.summary())"
      ],
      "execution_count": 46,
      "outputs": [
        {
          "output_type": "stream",
          "text": [
            "                            OLS Regression Results                            \n",
            "==============================================================================\n",
            "Dep. Variable:                  Brain   R-squared:                       0.647\n",
            "Model:                            OLS   Adj. R-squared:                  0.644\n",
            "Method:                 Least Squares   F-statistic:                     214.1\n",
            "Date:                Tue, 08 Dec 2020   Prob (F-statistic):           1.38e-53\n",
            "Time:                        17:07:18   Log-Likelihood:                -1347.8\n",
            "No. Observations:                 237   AIC:                             2702.\n",
            "Df Residuals:                     234   BIC:                             2712.\n",
            "Df Model:                           2                                         \n",
            "Covariance Type:            nonrobust                                         \n",
            "==============================================================================\n",
            "                 coef    std err          t      P>|t|      [0.025      0.975]\n",
            "------------------------------------------------------------------------------\n",
            "Intercept    347.5505     47.811      7.269      0.000     253.355     441.746\n",
            "Head           0.2604      0.013     20.229      0.000       0.235       0.286\n",
            "new_age      -20.7316      9.410     -2.203      0.029     -39.270      -2.193\n",
            "==============================================================================\n",
            "Omnibus:                        7.943   Durbin-Watson:                   1.889\n",
            "Prob(Omnibus):                  0.019   Jarque-Bera (JB):                8.238\n",
            "Skew:                           0.353   Prob(JB):                       0.0163\n",
            "Kurtosis:                       3.579   Cond. No.                     3.75e+04\n",
            "==============================================================================\n",
            "\n",
            "Warnings:\n",
            "[1] Standard Errors assume that the covariance matrix of the errors is correctly specified.\n",
            "[2] The condition number is large, 3.75e+04. This might indicate that there are\n",
            "strong multicollinearity or other numerical problems.\n"
          ],
          "name": "stdout"
        }
      ]
    },
    {
      "cell_type": "markdown",
      "metadata": {
        "id": "Bq5YE7heKoDo"
      },
      "source": [
        "5) At the alpha = 0.05 level, is age group statistically significantly associated with brain weight after accounting for head size?  Explain your answer in at least one complete sentence."
      ]
    },
    {
      "cell_type": "markdown",
      "metadata": {
        "id": "NxFj_mUwLTCf"
      },
      "source": [
        "Answer here: **After accounting for head size, age group is statistically significantly associated with brain weight at the .05 level since the P value is less than .05; we reject the null hypothesis. **"
      ]
    },
    {
      "cell_type": "markdown",
      "metadata": {
        "id": "kWEAlAWVLfjn"
      },
      "source": [
        "6) At the alpha = 0.01 level, is age group statistically significantly associated with brain weight after accounting for head size?  Explain your answer in at least one complete sentence."
      ]
    },
    {
      "cell_type": "markdown",
      "metadata": {
        "id": "MxJIbPE8LjnX"
      },
      "source": [
        "Answer here: After accounting for head size, age group is not statistically significantly associated with brain weight at the .01 level since the P value is greater than .01, we fail to reject the null hypothesis. "
      ]
    },
    {
      "cell_type": "markdown",
      "metadata": {
        "id": "VAdboVOmLsqR"
      },
      "source": [
        "7) What is the adjusted $R^2$ for the model relating head size and age group to brain weight?  Does adding age group to the model increase the amount of variability in brain weight explained by the model?"
      ]
    },
    {
      "cell_type": "markdown",
      "metadata": {
        "id": "E9LtO4VBML2u"
      },
      "source": [
        "Answer here: .644, yes it does increase the amount of variability. "
      ]
    },
    {
      "cell_type": "markdown",
      "metadata": {
        "id": "Je3yM5G9Mdkx"
      },
      "source": [
        "8) Model the relationship of gender and head size to brain weight."
      ]
    },
    {
      "cell_type": "code",
      "metadata": {
        "id": "Ii7PVMgJMnNC",
        "colab": {
          "base_uri": "https://localhost:8080/"
        },
        "outputId": "19b05407-9449-4f6b-cec9-abafa473ae5d"
      },
      "source": [
        "### YOUR CODE HERE ###\n",
        "from statsmodels.formula.api import ols\n",
        "model = ols('Brain ~ Head + new_gender', data=df).fit()\n",
        "print(model.summary())\n"
      ],
      "execution_count": 47,
      "outputs": [
        {
          "output_type": "stream",
          "text": [
            "                            OLS Regression Results                            \n",
            "==============================================================================\n",
            "Dep. Variable:                  Brain   R-squared:                       0.643\n",
            "Model:                            OLS   Adj. R-squared:                  0.640\n",
            "Method:                 Least Squares   F-statistic:                     211.0\n",
            "Date:                Tue, 08 Dec 2020   Prob (F-statistic):           4.15e-53\n",
            "Time:                        17:07:18   Log-Likelihood:                -1348.9\n",
            "No. Observations:                 237   AIC:                             2704.\n",
            "Df Residuals:                     234   BIC:                             2714.\n",
            "Df Model:                           2                                         \n",
            "Covariance Type:            nonrobust                                         \n",
            "==============================================================================\n",
            "                 coef    std err          t      P>|t|      [0.025      0.975]\n",
            "------------------------------------------------------------------------------\n",
            "Intercept    378.7139     57.299      6.609      0.000     265.825     491.603\n",
            "Head           0.2509      0.015     16.734      0.000       0.221       0.280\n",
            "new_gender   -17.8615     11.027     -1.620      0.107     -39.586       3.863\n",
            "==============================================================================\n",
            "Omnibus:                        8.109   Durbin-Watson:                   1.858\n",
            "Prob(Omnibus):                  0.017   Jarque-Bera (JB):                8.403\n",
            "Skew:                           0.360   Prob(JB):                       0.0150\n",
            "Kurtosis:                       3.576   Cond. No.                     4.49e+04\n",
            "==============================================================================\n",
            "\n",
            "Warnings:\n",
            "[1] Standard Errors assume that the covariance matrix of the errors is correctly specified.\n",
            "[2] The condition number is large, 4.49e+04. This might indicate that there are\n",
            "strong multicollinearity or other numerical problems.\n"
          ],
          "name": "stdout"
        }
      ]
    },
    {
      "cell_type": "markdown",
      "metadata": {
        "id": "tYG00tRDM4E9"
      },
      "source": [
        "9) At the alpha = 0.05 level, is gender statistically significantly associated with brain weight after accounting for head size?  Explain your answer in at least one complete sentence."
      ]
    },
    {
      "cell_type": "markdown",
      "metadata": {
        "id": "9VLKDiESxJSR"
      },
      "source": [
        "Answer here: At the .05 level, gender is not statistically significantly associated with brain weight since the p value is greater than .05. We fail to reject the null hypothesis. "
      ]
    },
    {
      "cell_type": "markdown",
      "metadata": {
        "id": "EmEI47CbC-ld"
      },
      "source": [
        "10) Write the linear model (insert the coefficients in the correct places) used to model the relationship between head size, age group and predicted brain weight.\n",
        "\n",
        "\n"
      ]
    },
    {
      "cell_type": "markdown",
      "metadata": {
        "id": "vXtOtQ-fDTaa"
      },
      "source": [
        "Answer here: y=347+ .26*Head - 20.7*new_age"
      ]
    },
    {
      "cell_type": "markdown",
      "metadata": {
        "id": "GI170a6-o6hx"
      },
      "source": [
        "11) Plot the relationship between head size and brain weight on a scatterplot. Use different color dots to represent older and younger individuals."
      ]
    },
    {
      "cell_type": "code",
      "metadata": {
        "id": "LtYcWjOGAXo3",
        "colab": {
          "base_uri": "https://localhost:8080/",
          "height": 295
        },
        "outputId": "6df5ec44-0ee2-4a15-8b99-3223123cd527"
      },
      "source": [
        "### YOUR CODE HERE ###\n",
        "import matplotlib.pyplot as plt\n",
        "fig, ax = plt.subplots()\n",
        "plt.scatter(x=df['Head'], y=df['Brain'], c=df['new_age'])\n",
        "ax.set_title('Head size and Brain weight')\n",
        "ax.set_xlabel('Head Size')\n",
        "ax.set_ylabel('Brain Weight')\n",
        "plt.show()"
      ],
      "execution_count": 48,
      "outputs": [
        {
          "output_type": "display_data",
          "data": {
            "image/png": "[encoded data removed]",
            "text/plain": [
              "<Figure size 432x288 with 1 Axes>"
            ]
          },
          "metadata": {
            "tags": [],
            "needs_background": "light"
          }
        }
      ]
    },
    {
      "cell_type": "markdown",
      "metadata": {
        "id": "wqv11_e7S7Ib"
      },
      "source": [
        "12) Estimate the brain weight of a 60-year-old with a head size of 4000 cubic cm."
      ]
    },
    {
      "cell_type": "code",
      "metadata": {
        "id": "Az7aXj-N6sW6",
        "colab": {
          "base_uri": "https://localhost:8080/"
        },
        "outputId": "d85e75cf-7529-45fb-f1b4-6609a3ddbef3"
      },
      "source": [
        "### YOUR CODE HERE ###\n",
        "model = ols('Brain~ Head + new_age', data=df).fit()\n",
        "x1 = 4000\n",
        "x2 = 1\n",
        "\n",
        "intercept = model.params[0]\n",
        "slope1 = model.params[1]\n",
        "slope2 = model.params[2]\n",
        "\n",
        "#Plug them into regression equation\n",
        "\n",
        "predicted = intercept + slope1*x1 + slope2*x2\n",
        "\n",
        "print(predicted)"
      ],
      "execution_count": 49,
      "outputs": [
        {
          "output_type": "stream",
          "text": [
            "1368.573921722076\n"
          ],
          "name": "stdout"
        }
      ]
    },
    {
      "cell_type": "markdown",
      "metadata": {
        "id": "B1O2nuW_3ixr"
      },
      "source": [
        "Answer here: *1368**"
      ]
    },
    {
      "cell_type": "markdown",
      "metadata": {
        "id": "-rhf7zmX9g3E"
      },
      "source": [
        "13) Estimate the brain weight of a 20-year-old with a head size of 3900 cubic cm."
      ]
    },
    {
      "cell_type": "code",
      "metadata": {
        "id": "gX01KjaSQxkF",
        "colab": {
          "base_uri": "https://localhost:8080/"
        },
        "outputId": "c2c8c5b8-1d1b-45f5-cd96-b89ee17043e3"
      },
      "source": [
        "### YOUR CODE HERE ###\n",
        "model = ols('Brain~ Head + new_age', data=df).fit()\n",
        "x1 = 3900\n",
        "x2 = 0\n",
        "\n",
        "intercept = model.params[0]\n",
        "slope1 = model.params[1]\n",
        "slope2 = model.params[2]\n",
        "\n",
        "#Plug them into regression equation\n",
        "\n",
        "predicted = intercept + slope1*x1 + slope2*x2\n",
        "\n",
        "print(predicted)"
      ],
      "execution_count": 50,
      "outputs": [
        {
          "output_type": "stream",
          "text": [
            "1363.261689710586\n"
          ],
          "name": "stdout"
        }
      ]
    },
    {
      "cell_type": "markdown",
      "metadata": {
        "id": "iRVl1ZyC92kj"
      },
      "source": [
        "Answer here: 1363"
      ]
    },
    {
      "cell_type": "markdown",
      "metadata": {
        "id": "KFrzV2M4fCpY"
      },
      "source": [
        "###Use the following information to answer questions 14 - 20\n"
      ]
    },
    {
      "cell_type": "markdown",
      "metadata": {
        "id": "T1TDNIibteov"
      },
      "source": [
        "Import the Sleep.csv dataset from a URL and print the first few rows\n",
        "\n",
        "Researchers recorded data on sleep duration as well as a set of ecological and constitutional variables  for a selection of mammal species. This data appears in the Sleep.csv dataset. \n",
        "\n",
        "\n",
        "Source: Allison, T. and Cicchetti, D. (1976), \"Sleep in Mammals: Ecological and Constitutional Correlates\",  Science, November 12, vol. 194, pp. 732-734.\n",
        "\n",
        "\n",
        "\n",
        "Data Dictionary:\n",
        "\n",
        "| Variable Name |            Description           |                                                                 Details                                                                 |              |   |\n",
        "|:-------------:|:--------------------------------:|:---------------------------------------------------------------------------------------------------------------------------------------:|--------------|---|\n",
        "| Animal        |            Animal name           |                                                            Character [string]                                                           |    |   |\n",
        "| Body          |            Body weight           |                                                               Numeric [kg]                                                              |       |   |\n",
        "| Brain         |           Brain weight           |                                                               Numeric [g]                                                               |  |   |\n",
        "| SWsleep       | Slow wave (“non-dreaming”) sleep | Numeric [hours]                                                                                                                         |              |   |\n",
        "| Parasleep     | Paradoxical (“dreaming”) sleep   | Numeric [hours]                                                                                                                         |              |   |\n",
        "| Totsleep      | Total sleep                      | Numeric [hours]                                                                                                                         |              |   |\n",
        "| Life          | Maximum life expectancy          | Numeric [years]                                                                                                                         |              |   |\n",
        "| Gest          | Gestation time                   | Numeric [days]                                                                                                                          |              |   |\n",
        "| Pred          | Predation index                  | Numeric [1 – 5] 1 = least likely to be preyed upon, 5 = most likely to be preyed upon                                                   |              |   |\n",
        "| Exposure      | Sleep exposure index             | Numeric [1 – 5] 1 = least amount of exposure during sleep (mammal sleeps indoors or in a den), 5 = most amount of exposure during sleep |              |   |\n",
        "| Danger        | Overall danger index             | Numeric [ 1 – 5] 1 = least amount of danger from other animals, 5 = most amount of danger from other animals                            |              |   |\n",
        "\n"
      ]
    },
    {
      "cell_type": "code",
      "metadata": {
        "id": "lAGRV2LkuKyw",
        "colab": {
          "base_uri": "https://localhost:8080/",
          "height": 204
        },
        "outputId": "318fa95a-c02d-4c25-e841-7fc442ab131a"
      },
      "source": [
        "data_url = 'https://raw.githubusercontent.com/LambdaSchool/data-science-practice-datasets/main/unit_1/Sleep/Sleep.csv'\n",
        "\n",
        "sleep = pd.read_csv(data_url, skipinitialspace=True, header=0)\n",
        "\n",
        "sleep['Log_gest'] = np.log(sleep['Gest'])\n",
        "\n",
        "sleep.head()"
      ],
      "execution_count": 51,
      "outputs": [
        {
          "output_type": "execute_result",
          "data": {
            "text/html": [
              "<div>\n",
              "<style scoped>\n",
              "    .dataframe tbody tr th:only-of-type {\n",
              "        vertical-align: middle;\n",
              "    }\n",
              "\n",
              "    .dataframe tbody tr th {\n",
              "        vertical-align: top;\n",
              "    }\n",
              "\n",
              "    .dataframe thead th {\n",
              "        text-align: right;\n",
              "    }\n",
              "</style>\n",
              "<table border=\"1\" class=\"dataframe\">\n",
              "  <thead>\n",
              "    <tr style=\"text-align: right;\">\n",
              "      <th></th>\n",
              "      <th>Animal</th>\n",
              "      <th>Body</th>\n",
              "      <th>Brain</th>\n",
              "      <th>SWsleep</th>\n",
              "      <th>Parasleep</th>\n",
              "      <th>Totsleep</th>\n",
              "      <th>Life</th>\n",
              "      <th>Gest</th>\n",
              "      <th>Pred</th>\n",
              "      <th>Exposure</th>\n",
              "      <th>Danger</th>\n",
              "      <th>Log_gest</th>\n",
              "    </tr>\n",
              "  </thead>\n",
              "  <tbody>\n",
              "    <tr>\n",
              "      <th>0</th>\n",
              "      <td>African_giant_pouched_rat</td>\n",
              "      <td>1.000</td>\n",
              "      <td>6.6</td>\n",
              "      <td>6.3</td>\n",
              "      <td>2.0</td>\n",
              "      <td>8.3</td>\n",
              "      <td>4.5</td>\n",
              "      <td>42.0</td>\n",
              "      <td>3</td>\n",
              "      <td>1</td>\n",
              "      <td>3</td>\n",
              "      <td>3.737670</td>\n",
              "    </tr>\n",
              "    <tr>\n",
              "      <th>1</th>\n",
              "      <td>Asian_elephant</td>\n",
              "      <td>2547.000</td>\n",
              "      <td>4603.0</td>\n",
              "      <td>2.1</td>\n",
              "      <td>1.8</td>\n",
              "      <td>3.9</td>\n",
              "      <td>69.0</td>\n",
              "      <td>624.0</td>\n",
              "      <td>3</td>\n",
              "      <td>5</td>\n",
              "      <td>4</td>\n",
              "      <td>6.436150</td>\n",
              "    </tr>\n",
              "    <tr>\n",
              "      <th>2</th>\n",
              "      <td>Baboon</td>\n",
              "      <td>10.550</td>\n",
              "      <td>179.5</td>\n",
              "      <td>9.1</td>\n",
              "      <td>0.7</td>\n",
              "      <td>9.8</td>\n",
              "      <td>27.0</td>\n",
              "      <td>180.0</td>\n",
              "      <td>4</td>\n",
              "      <td>4</td>\n",
              "      <td>4</td>\n",
              "      <td>5.192957</td>\n",
              "    </tr>\n",
              "    <tr>\n",
              "      <th>3</th>\n",
              "      <td>Big_brown_bat</td>\n",
              "      <td>0.023</td>\n",
              "      <td>0.3</td>\n",
              "      <td>15.8</td>\n",
              "      <td>3.9</td>\n",
              "      <td>19.7</td>\n",
              "      <td>19.0</td>\n",
              "      <td>35.0</td>\n",
              "      <td>1</td>\n",
              "      <td>1</td>\n",
              "      <td>1</td>\n",
              "      <td>3.555348</td>\n",
              "    </tr>\n",
              "    <tr>\n",
              "      <th>4</th>\n",
              "      <td>Brazilian_tapir</td>\n",
              "      <td>160.000</td>\n",
              "      <td>169.0</td>\n",
              "      <td>5.2</td>\n",
              "      <td>1.0</td>\n",
              "      <td>6.2</td>\n",
              "      <td>30.4</td>\n",
              "      <td>392.0</td>\n",
              "      <td>4</td>\n",
              "      <td>5</td>\n",
              "      <td>4</td>\n",
              "      <td>5.971262</td>\n",
              "    </tr>\n",
              "  </tbody>\n",
              "</table>\n",
              "</div>"
            ],
            "text/plain": [
              "                      Animal      Body   Brain  ...  Exposure  Danger  Log_gest\n",
              "0  African_giant_pouched_rat     1.000     6.6  ...         1       3  3.737670\n",
              "1             Asian_elephant  2547.000  4603.0  ...         5       4  6.436150\n",
              "2                     Baboon    10.550   179.5  ...         4       4  5.192957\n",
              "3              Big_brown_bat     0.023     0.3  ...         1       1  3.555348\n",
              "4            Brazilian_tapir   160.000   169.0  ...         5       4  5.971262\n",
              "\n",
              "[5 rows x 12 columns]"
            ]
          },
          "metadata": {
            "tags": []
          },
          "execution_count": 51
        }
      ]
    },
    {
      "cell_type": "markdown",
      "metadata": {
        "id": "M_CeukMLf51x"
      },
      "source": [
        "14) Plot the relationship of body size to dreaming sleep and describe the shape of the relationship."
      ]
    },
    {
      "cell_type": "code",
      "metadata": {
        "id": "xihIFuAGgGbk",
        "colab": {
          "base_uri": "https://localhost:8080/",
          "height": 295
        },
        "outputId": "a88f5be8-f0be-4e91-c4dc-540797701f72"
      },
      "source": [
        "### CODE HERE ###\n",
        "import matplotlib.pyplot as plt\n",
        "fig, ax = plt.subplots()\n",
        "plt.scatter(x=sleep['Body'], y=sleep['Parasleep'])\n",
        "ax.set_title('Body size and dreaming sleep')\n",
        "ax.set_xlabel('Body weight')\n",
        "ax.set_ylabel('Dreaming sleep')\n",
        "plt.show()"
      ],
      "execution_count": 52,
      "outputs": [
        {
          "output_type": "display_data",
          "data": {
            "image/png": "[encoded data removed]",
            "text/plain": [
              "<Figure size 432x288 with 1 Axes>"
            ]
          },
          "metadata": {
            "tags": [],
            "needs_background": "light"
          }
        }
      ]
    },
    {
      "cell_type": "markdown",
      "metadata": {
        "id": "JMYLPcP9r57M"
      },
      "source": [
        "Answer here: It is very hard to read and harshly skewed to the right. "
      ]
    },
    {
      "cell_type": "markdown",
      "metadata": {
        "id": "XSRoEnlcgGth"
      },
      "source": [
        "15) Does it appear that a log transformation would improve the model fit?  If yes, perform the log transformation and plot the resulting relationship with dreaming sleep."
      ]
    },
    {
      "cell_type": "code",
      "metadata": {
        "id": "_v-Kw2pYgQsK",
        "colab": {
          "base_uri": "https://localhost:8080/",
          "height": 295
        },
        "outputId": "b8a26c00-4d74-4df1-a0a0-0eaa78f8e2df"
      },
      "source": [
        "### CODE HERE ###\n",
        "sleep['Log_body'] = np.log(sleep['Body'])\n",
        "import matplotlib.pyplot as plt\n",
        "fig, ax = plt.subplots()\n",
        "plt.scatter(x=sleep['Log_body'], y=sleep['Parasleep'])\n",
        "ax.set_title('Body size and dreaming sleep')\n",
        "ax.set_xlabel('Body weight Log')\n",
        "ax.set_ylabel('Dreaming sleep')\n",
        "plt.show()"
      ],
      "execution_count": 53,
      "outputs": [
        {
          "output_type": "display_data",
          "data": {
            "image/png": "[encoded data removed]",
            "text/plain": [
              "<Figure size 432x288 with 1 Axes>"
            ]
          },
          "metadata": {
            "tags": [],
            "needs_background": "light"
          }
        }
      ]
    },
    {
      "cell_type": "markdown",
      "metadata": {
        "id": "be8_EdZUr9WC"
      },
      "source": [
        "Answer here: "
      ]
    },
    {
      "cell_type": "markdown",
      "metadata": {
        "id": "IXLsBQ4igQ3p"
      },
      "source": [
        "16) Run an ols model using gestation time, danger index and the log of body size.  Is the log of body size statistically significantly associated with time spent in dreaming sleep after accounting for the other two factors?"
      ]
    },
    {
      "cell_type": "code",
      "metadata": {
        "id": "GKx8jL5Uryyn",
        "colab": {
          "base_uri": "https://localhost:8080/"
        },
        "outputId": "2029f55e-4a4e-424f-9bbf-886863e32870"
      },
      "source": [
        "### CODE HERE ###\n",
        "from statsmodels.formula.api import ols\n",
        "model = ols('Parasleep ~ Gest + C(Danger) + Log_body', data=sleep).fit()\n",
        "print(model.summary())"
      ],
      "execution_count": 54,
      "outputs": [
        {
          "output_type": "stream",
          "text": [
            "                            OLS Regression Results                            \n",
            "==============================================================================\n",
            "Dep. Variable:              Parasleep   R-squared:                       0.445\n",
            "Model:                            OLS   Adj. R-squared:                  0.349\n",
            "Method:                 Least Squares   F-statistic:                     4.670\n",
            "Date:                Tue, 08 Dec 2020   Prob (F-statistic):            0.00138\n",
            "Time:                        17:07:18   Log-Likelihood:                -60.534\n",
            "No. Observations:                  42   AIC:                             135.1\n",
            "Df Residuals:                      35   BIC:                             147.2\n",
            "Df Model:                           6                                         \n",
            "Covariance Type:            nonrobust                                         \n",
            "==================================================================================\n",
            "                     coef    std err          t      P>|t|      [0.025      0.975]\n",
            "----------------------------------------------------------------------------------\n",
            "Intercept          3.5683      0.392      9.103      0.000       2.772       4.364\n",
            "C(Danger)[T.2]    -1.1850      0.495     -2.393      0.022      -2.190      -0.180\n",
            "C(Danger)[T.3]    -1.3076      0.561     -2.331      0.026      -2.446      -0.169\n",
            "C(Danger)[T.4]    -1.5527      0.527     -2.945      0.006      -2.623      -0.482\n",
            "C(Danger)[T.5]    -2.3269      0.653     -3.566      0.001      -3.652      -1.002\n",
            "Gest              -0.0049      0.002     -2.181      0.036      -0.009      -0.000\n",
            "Log_body           0.0922      0.100      0.921      0.363      -0.111       0.295\n",
            "==============================================================================\n",
            "Omnibus:                        7.084   Durbin-Watson:                   2.288\n",
            "Prob(Omnibus):                  0.029   Jarque-Bera (JB):                5.819\n",
            "Skew:                           0.789   Prob(JB):                       0.0545\n",
            "Kurtosis:                       3.914   Cond. No.                         893.\n",
            "==============================================================================\n",
            "\n",
            "Warnings:\n",
            "[1] Standard Errors assume that the covariance matrix of the errors is correctly specified.\n"
          ],
          "name": "stdout"
        }
      ]
    },
    {
      "cell_type": "markdown",
      "metadata": {
        "id": "EZ2WNuY6sB54"
      },
      "source": [
        "Answer here: No, it is not significantly associated with time spent in dreaming sleep after accounting for other two factors. "
      ]
    },
    {
      "cell_type": "markdown",
      "metadata": {
        "id": "IsQKr8qTgjmP"
      },
      "source": [
        "17) Plot the relationship of gestational time and dreaming sleep with different colors for animals who experience different amounts of sleep exposure."
      ]
    },
    {
      "cell_type": "code",
      "metadata": {
        "id": "v1OD3_SihFY8",
        "colab": {
          "base_uri": "https://localhost:8080/",
          "height": 295
        },
        "outputId": "63df0d86-54d1-46b7-bec5-4e7ccb8960af"
      },
      "source": [
        "### CODE HERE ###\n",
        "import matplotlib.pyplot as plt\n",
        "fig, ax = plt.subplots()\n",
        "plt.scatter(x=sleep['Gest'], y=sleep['Parasleep'], c=sleep['Exposure'])\n",
        "ax.set_title('Gestational time and Dreaming sleep')\n",
        "ax.set_xlabel('Gestational time')\n",
        "ax.set_ylabel('Dreaming sleep')\n",
        "plt.show()"
      ],
      "execution_count": 55,
      "outputs": [
        {
          "output_type": "display_data",
          "data": {
            "image/png": "[encoded data removed]",
            "text/plain": [
              "<Figure size 432x288 with 1 Axes>"
            ]
          },
          "metadata": {
            "tags": [],
            "needs_background": "light"
          }
        }
      ]
    },
    {
      "cell_type": "markdown",
      "metadata": {
        "id": "LZRUl27JsFtE"
      },
      "source": [
        "Answer here: "
      ]
    },
    {
      "cell_type": "markdown",
      "metadata": {
        "id": "9kDH7IJ-hFoF"
      },
      "source": [
        "18) Run an ols model using the log of gestation time and sleep exposure index to predict the amount of time spent in dreaming sleep.  Is sleep exposure index a better predictor of amount of time spent in dreaming sleep than danger index?"
      ]
    },
    {
      "cell_type": "code",
      "metadata": {
        "id": "HEAIQy8DnxFT",
        "colab": {
          "base_uri": "https://localhost:8080/"
        },
        "outputId": "531dad7e-cefd-4ff0-add7-a742e81a50d4"
      },
      "source": [
        "### CODE HERE ###\n",
        "from statsmodels.formula.api import ols\n",
        "model = ols('Parasleep ~ Log_gest + C(Exposure)', data=sleep).fit()\n",
        "print(model.summary())"
      ],
      "execution_count": 56,
      "outputs": [
        {
          "output_type": "stream",
          "text": [
            "                            OLS Regression Results                            \n",
            "==============================================================================\n",
            "Dep. Variable:              Parasleep   R-squared:                       0.389\n",
            "Model:                            OLS   Adj. R-squared:                  0.304\n",
            "Method:                 Least Squares   F-statistic:                     4.583\n",
            "Date:                Tue, 08 Dec 2020   Prob (F-statistic):            0.00245\n",
            "Time:                        17:07:19   Log-Likelihood:                -62.540\n",
            "No. Observations:                  42   AIC:                             137.1\n",
            "Df Residuals:                      36   BIC:                             147.5\n",
            "Df Model:                           5                                         \n",
            "Covariance Type:            nonrobust                                         \n",
            "====================================================================================\n",
            "                       coef    std err          t      P>|t|      [0.025      0.975]\n",
            "------------------------------------------------------------------------------------\n",
            "Intercept            4.6239      0.848      5.455      0.000       2.905       6.343\n",
            "C(Exposure)[T.2]    -0.6132      0.487     -1.259      0.216      -1.601       0.375\n",
            "C(Exposure)[T.3]    -0.9614      0.702     -1.369      0.180      -2.386       0.463\n",
            "C(Exposure)[T.4]    -0.8153      0.690     -1.182      0.245      -2.214       0.583\n",
            "C(Exposure)[T.5]    -0.9677      0.617     -1.570      0.125      -2.218       0.283\n",
            "Log_gest            -0.5171      0.214     -2.418      0.021      -0.951      -0.083\n",
            "==============================================================================\n",
            "Omnibus:                        7.922   Durbin-Watson:                   1.960\n",
            "Prob(Omnibus):                  0.019   Jarque-Bera (JB):                6.895\n",
            "Skew:                           0.794   Prob(JB):                       0.0318\n",
            "Kurtosis:                       4.191   Cond. No.                         27.0\n",
            "==============================================================================\n",
            "\n",
            "Warnings:\n",
            "[1] Standard Errors assume that the covariance matrix of the errors is correctly specified.\n"
          ],
          "name": "stdout"
        }
      ]
    },
    {
      "cell_type": "markdown",
      "metadata": {
        "id": "YNKKNuxPoQ4T"
      },
      "source": [
        "Answer here: No"
      ]
    },
    {
      "cell_type": "markdown",
      "metadata": {
        "id": "CzTPjXzPkUGE"
      },
      "source": [
        "19) Plot the relationship of gestational time and dreaming sleep with different colors for animals who experience different amounts of sleep exposure."
      ]
    },
    {
      "cell_type": "code",
      "metadata": {
        "id": "uRrlI2iNoVyi",
        "colab": {
          "base_uri": "https://localhost:8080/",
          "height": 295
        },
        "outputId": "bd341430-5ee5-48af-f2ce-d1d926669826"
      },
      "source": [
        "### CODE HERE ###\n",
        "import matplotlib.pyplot as plt\n",
        "fig, ax = plt.subplots()\n",
        "plt.scatter(x=sleep['Gest'], y=sleep['Parasleep'], c=sleep['Exposure'])\n",
        "ax.set_title('Gestational time and Dreaming sleep')\n",
        "ax.set_xlabel('Gestational time')\n",
        "ax.set_ylabel('Dreaming sleep')\n",
        "plt.show()"
      ],
      "execution_count": 57,
      "outputs": [
        {
          "output_type": "display_data",
          "data": {
            "image/png": "[encoded data removed]",
            "text/plain": [
              "<Figure size 432x288 with 1 Axes>"
            ]
          },
          "metadata": {
            "tags": [],
            "needs_background": "light"
          }
        }
      ]
    },
    {
      "cell_type": "markdown",
      "metadata": {
        "id": "uxbIArwzsMgT"
      },
      "source": [
        "Answer here: Same Question "
      ]
    },
    {
      "cell_type": "markdown",
      "metadata": {
        "id": "XYs1IpYNk8Zw"
      },
      "source": [
        "20) Run an ols model using the log of gestation time and predation index to predict the amount of time spent in dreaming sleep.  Is predation index a better predictor of amount of time spent in dreaming sleep than danger index?"
      ]
    },
    {
      "cell_type": "code",
      "metadata": {
        "id": "CDZNzxP0rfsN",
        "colab": {
          "base_uri": "https://localhost:8080/"
        },
        "outputId": "b803e02a-f688-4fcb-c92d-4ea66bf01181"
      },
      "source": [
        "### CODE HERE ###\n",
        "from statsmodels.formula.api import ols\n",
        "model = ols('Parasleep ~ Log_gest + C(Pred)', data=sleep).fit()\n",
        "print(model.summary())"
      ],
      "execution_count": 58,
      "outputs": [
        {
          "output_type": "stream",
          "text": [
            "                            OLS Regression Results                            \n",
            "==============================================================================\n",
            "Dep. Variable:              Parasleep   R-squared:                       0.454\n",
            "Model:                            OLS   Adj. R-squared:                  0.378\n",
            "Method:                 Least Squares   F-statistic:                     5.983\n",
            "Date:                Tue, 08 Dec 2020   Prob (F-statistic):           0.000398\n",
            "Time:                        17:07:19   Log-Likelihood:                -60.182\n",
            "No. Observations:                  42   AIC:                             132.4\n",
            "Df Residuals:                      36   BIC:                             142.8\n",
            "Df Model:                           5                                         \n",
            "Covariance Type:            nonrobust                                         \n",
            "================================================================================\n",
            "                   coef    std err          t      P>|t|      [0.025      0.975]\n",
            "--------------------------------------------------------------------------------\n",
            "Intercept        5.4498      0.840      6.489      0.000       3.746       7.153\n",
            "C(Pred)[T.2]    -0.0895      0.515     -0.174      0.863      -1.135       0.956\n",
            "C(Pred)[T.3]    -0.5359      0.567     -0.944      0.351      -1.687       0.615\n",
            "C(Pred)[T.4]    -1.0337      0.568     -1.821      0.077      -2.185       0.117\n",
            "C(Pred)[T.5]    -1.1972      0.532     -2.249      0.031      -2.277      -0.118\n",
            "Log_gest        -0.6877      0.165     -4.159      0.000      -1.023      -0.352\n",
            "==============================================================================\n",
            "Omnibus:                        5.334   Durbin-Watson:                   1.927\n",
            "Prob(Omnibus):                  0.069   Jarque-Bera (JB):                6.290\n",
            "Skew:                           0.188   Prob(JB):                       0.0431\n",
            "Kurtosis:                       4.858   Cond. No.                         28.2\n",
            "==============================================================================\n",
            "\n",
            "Warnings:\n",
            "[1] Standard Errors assume that the covariance matrix of the errors is correctly specified.\n"
          ],
          "name": "stdout"
        }
      ]
    },
    {
      "cell_type": "markdown",
      "metadata": {
        "id": "_KLWYExnsPLo"
      },
      "source": [
        "Answer here: Yes it is! "
      ]
    },
    {
      "cell_type": "markdown",
      "metadata": {
        "id": "R-dBXGzCRu4a"
      },
      "source": [
        "#Portfolio Project Assignment\n",
        "\n",
        "Get (and give) constructive feedback to a peer.  Swap projects with at least one other student, and give each other constructive feedback.  Make sure to tell them what you like about their project as well as any suggestions you have for imporvement."
      ]
    },
    {
      "cell_type": "markdown",
      "metadata": {
        "id": "RnDi8855VIPB"
      },
      "source": [
        "\n",
        "\n",
        "---\n",
        "\n"
      ]
    }
  ]
}